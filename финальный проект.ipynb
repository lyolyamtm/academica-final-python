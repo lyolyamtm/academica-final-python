{
 "cells": [
  {
   "cell_type": "code",
   "execution_count": 4,
   "metadata": {},
   "outputs": [
    {
     "name": "stdout",
     "output_type": "stream",
     "text": [
      "the file that you would like to read is not found\n"
     ]
    }
   ],
   "source": [
    "filename = '1users.txt'\n",
    "\n",
    "try:\n",
    "    with open(filename, 'r') as file:\n",
    "        for line in file:\n",
    "            print(line.strip())\n",
    "\n",
    "except FileNotFoundError:\n",
    "    print(\"the file that you would like to read is not found\")\n",
    "except Exception:\n",
    "    print(\"some error occurred\")\n"
   ]
  },
  {
   "cell_type": "code",
   "execution_count": 8,
   "metadata": {},
   "outputs": [
    {
     "name": "stdout",
     "output_type": "stream",
     "text": [
      "Имя: Иван\n",
      "Фамилия: Иванов\n",
      "Возраст: 33 лет\n",
      "Электронная почта: ivan.ivanov@example.com\n"
     ]
    }
   ],
   "source": [
    "from users_final import users \n",
    "\n",
    "user = users(\"Иван\", \"Иванов\", 1990, \"ivan.ivanov@example.com\")\n",
    "print(f\"Имя: {user.first_name}\")\n",
    "print(f\"Фамилия: {user.last_name}\")\n",
    "print(f\"Возраст: {user.getAge()} лет\")\n",
    "print(f\"Электронная почта: {user.email}\")\n"
   ]
  },
  {
   "cell_type": "code",
   "execution_count": 11,
   "metadata": {},
   "outputs": [],
   "source": [
    "from users_final import users\n",
    "\n",
    "def load_users_from_file(filename):\n",
    "    users_list = []\n",
    "    try:\n",
    "        with open(filename, 'r') as file:\n",
    "            for line in file:\n",
    "                data = line.strip().split(',')\n",
    "                if len(data) == 4:\n",
    "                    first_name, last_name, birth_year, email = data\n",
    "                    user = users(first_name, last_name, int(birth_year), email)\n",
    "                    users_list.append(user)\n",
    "    except FileNotFoundError:\n",
    "        print(\"the file that you would like to read is not found\")\n",
    "    except Exception:\n",
    "        print(\"some error occurred\")\n",
    "    \n",
    "    return users_list\n",
    "\n",
    "\n",
    "filename = 'users.txt'\n",
    "users = load_users_from_file(filename)\n",
    "\n",
    "for user in users:\n",
    "    print(f\"Имя: {user.first_name}, Фамилия: {user.last_name}, Возраст: {user.getAge()} лет, Электронная почта: {user.email}\")"
   ]
  }
 ],
 "metadata": {
  "kernelspec": {
   "display_name": "Python 3",
   "language": "python",
   "name": "python3"
  },
  "language_info": {
   "codemirror_mode": {
    "name": "ipython",
    "version": 3
   },
   "file_extension": ".py",
   "mimetype": "text/x-python",
   "name": "python",
   "nbconvert_exporter": "python",
   "pygments_lexer": "ipython3",
   "version": "3.12.0"
  }
 },
 "nbformat": 4,
 "nbformat_minor": 2
}
